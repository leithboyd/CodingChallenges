{
 "cells": [
  {
   "cell_type": "code",
   "execution_count": 16,
   "metadata": {},
   "outputs": [
    {
     "name": "stdout",
     "output_type": "stream",
     "text": [
      "[3, 6, 9, 12, 4, 7, 10, 5, 8, 11]\n",
      "[5, 8, 11, 5, 8]\n",
      "[]\n"
     ]
    }
   ],
   "source": [
    "def solution(n):\n",
    "\n",
    "    l = [3, 4, 5, 6, 7, 8, 9, 10, 11, 12]\n",
    "\n",
    "    \n",
    "\n",
    "    def apply_deletes(v):\n",
    "        nonlocal n\n",
    "        to_remove = v - 2 if v % 3 == 2 else v % 3 + 1\n",
    "        can_remove = min(to_remove, n)\n",
    "        n -= can_remove\n",
    "        return v - can_remove\n",
    "\n",
    "    l.sort(key=lambda x: x % 3)\n",
    "    l = [v for v in map(apply_deletes, l) if v >= 3]\n",
    "    l = [v for v in map(apply_deletes, l) if v >= 3]\n",
    "    return l\n",
    "\n",
    "\n",
    "solution(100)\n"
   ]
  }
 ],
 "metadata": {
  "kernelspec": {
   "display_name": "Python 3",
   "language": "python",
   "name": "python3"
  },
  "language_info": {
   "codemirror_mode": {
    "name": "ipython",
    "version": 3
   },
   "file_extension": ".py",
   "mimetype": "text/x-python",
   "name": "python",
   "nbconvert_exporter": "python",
   "pygments_lexer": "ipython3",
   "version": "3.9.13"
  },
  "orig_nbformat": 4,
  "vscode": {
   "interpreter": {
    "hash": "5c21e727fac892ad94bafa8dddc74082b58242cb57aab7271eaef11b2690878b"
   }
  }
 },
 "nbformat": 4,
 "nbformat_minor": 2
}
